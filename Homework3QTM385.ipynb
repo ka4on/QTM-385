{
  "nbformat": 4,
  "nbformat_minor": 0,
  "metadata": {
    "kernelspec": {
      "display_name": "Python 3",
      "language": "python",
      "name": "python3"
    },
    "language_info": {
      "codemirror_mode": {
        "name": "ipython",
        "version": 3
      },
      "file_extension": ".py",
      "mimetype": "text/x-python",
      "name": "python",
      "nbconvert_exporter": "python",
      "pygments_lexer": "ipython3",
      "version": "3.8.5"
    },
    "colab": {
      "name": "Homework3QTM385.ipynb",
      "provenance": []
    }
  },
  "cells": [
    {
      "cell_type": "markdown",
      "metadata": {
        "id": "U1dcB2JQHvOC"
      },
      "source": [
        "# QTM 385\n",
        "\n",
        "***\n",
        "\n",
        "## Homework 3\n",
        "\n",
        "Student: [Kairan Zhong]"
      ]
    },
    {
      "cell_type": "markdown",
      "metadata": {
        "id": "wyHJWrU7HvOE"
      },
      "source": [
        "In this homework, we will do some very elementary text analysis. The idea is to:\n",
        "\n",
        "1. Open a Gutenberg Project Book\n",
        "2. Count how many lines the Book has.\n",
        "3. Count how many words the Book has.\n",
        "\n",
        "The [Project Gutenberg](https://www.gutenberg.org) stores thousands of texts that are free for access, download, and read in your own device. In this homework, we will read the book \"Pride and Prejudice,\" by Jane Austen. In case you want to know more about the book, here is a [Wikipedia entry](https://en.wikipedia.org/wiki/Pride_and_Prejudice) describing it."
      ]
    },
    {
      "cell_type": "markdown",
      "metadata": {
        "id": "jY3eNfl-HvOE"
      },
      "source": [
        "\n",
        "***\n",
        "\n",
        "### Question 1\n",
        "\n",
        "We start by opening the book. The `txt` version of the book is in the following link: https://www.gutenberg.org/files/1342/1342-0.txt\n",
        "\n",
        "To read the text from this URL we will use the function `urlopen` in the module `urllib.request`. Read this [Stackoverflow entry](https://stackoverflow.com/questions/47842388/read-text-files-from-website-with-python), and adapt the code in the first answer to _open the book_, _display the first line_, and then _`break`_."
      ]
    },
    {
      "cell_type": "code",
      "metadata": {
        "colab": {
          "base_uri": "https://localhost:8080/"
        },
        "id": "_2ZDVzg1HvOF",
        "outputId": "a45a13cc-f691-4cc6-d40a-61ad8f473e37"
      },
      "source": [
        "# Your answer here\n",
        "from urllib.request import urlopen\n",
        "r = urlopen(\"https://www.gutenberg.org/files/1342/1342-0.txt\")\n",
        "for line in r:\n",
        "    print(line)\n",
        "    break"
      ],
      "execution_count": 3,
      "outputs": [
        {
          "output_type": "stream",
          "name": "stdout",
          "text": [
            "b'\\xef\\xbb\\xbfThe Project Gutenberg eBook of Pride and Prejudice, by Jane Austen\\r\\n'\n"
          ]
        }
      ]
    },
    {
      "cell_type": "markdown",
      "metadata": {
        "id": "-MZSsml1HvOF"
      },
      "source": [
        "\n",
        "***\n",
        "\n",
        "### Question 2\n",
        "\n",
        "Note that at the beginning and the end of the first line, we have some strange characters (e. g. `\\xef\\xbb\\xbf`). This happens because of the [character encoding](https://en.wikipedia.org/wiki/Character_encoding). To fix this, we need to use `decode('utf-8')`. For instance, check out the following code:"
      ]
    },
    {
      "cell_type": "code",
      "metadata": {
        "colab": {
          "base_uri": "https://localhost:8080/"
        },
        "id": "prsTWyhVHvOG",
        "outputId": "30fa81f8-6310-407d-d272-21b22642efea"
      },
      "source": [
        "# Here is my first line\n",
        "my_line = b'\\xef\\xbb\\xbfThe Project Gutenberg eBook of Pride and Prejudice, by Jane Austen\\r\\n'\n",
        "\n",
        "# My line before decoding\n",
        "print(my_line, end = '\\n\\n')\n",
        "\n",
        "# My line after decoding\n",
        "print(my_line.decode('utf-8'))"
      ],
      "execution_count": 28,
      "outputs": [
        {
          "output_type": "stream",
          "name": "stdout",
          "text": [
            "b'\\xef\\xbb\\xbfThe Project Gutenberg eBook of Pride and Prejudice, by Jane Austen\\r\\n'\n",
            "\n",
            "﻿The Project Gutenberg eBook of Pride and Prejudice, by Jane Austen\r\n",
            "\n"
          ]
        }
      ]
    },
    {
      "cell_type": "markdown",
      "metadata": {
        "id": "WRdtHi6JHvOG"
      },
      "source": [
        "To fix this problem, we will create a list with all the lines in the book, decoded to use the UTF-8 encoding. Your job, step by step, is to:\n",
        "\n",
        "1. Reopen the book\n",
        "2. Create an empty list\n",
        "3. Use an for-loop to go over each line of the text\n",
        "4. Inside the for-loop, change the encoding of line, and store in the list (hint: you could use `append()` to do this)\n",
        "\n",
        "In the end, display the first line."
      ]
    },
    {
      "cell_type": "code",
      "metadata": {
        "colab": {
          "base_uri": "https://localhost:8080/",
          "height": 35
        },
        "id": "V0AZTng-HvOH",
        "outputId": "46f5d050-6f80-4cb3-faa3-97e8c3ee1481"
      },
      "source": [
        "# Your answer here\n",
        "r = urlopen(\"https://www.gutenberg.org/files/1342/1342-0.txt\")\n",
        "decoded = []\n",
        "for line in r:\n",
        "  line = line.rstrip()\n",
        "  new_line = line.decode('utf-8-sig')\n",
        "  decoded.append(new_line)\n",
        "decoded[0]"
      ],
      "execution_count": 44,
      "outputs": [
        {
          "output_type": "execute_result",
          "data": {
            "application/vnd.google.colaboratory.intrinsic+json": {
              "type": "string"
            },
            "text/plain": [
              "'The Project Gutenberg eBook of Pride and Prejudice, by Jane Austen'"
            ]
          },
          "metadata": {},
          "execution_count": 44
        }
      ]
    },
    {
      "cell_type": "markdown",
      "metadata": {
        "id": "LTnUG68WHvOH"
      },
      "source": [
        "\n",
        "***\n",
        "\n",
        "### Question 3\n",
        "\n",
        "How many lines the book has?"
      ]
    },
    {
      "cell_type": "code",
      "metadata": {
        "colab": {
          "base_uri": "https://localhost:8080/"
        },
        "id": "NZoMQuDqHvOH",
        "outputId": "ac687548-9c83-4524-e74a-431ae3a7c5a8"
      },
      "source": [
        "# Your answer here\n",
        "len(decoded)"
      ],
      "execution_count": 33,
      "outputs": [
        {
          "output_type": "execute_result",
          "data": {
            "text/plain": [
              "14579"
            ]
          },
          "metadata": {},
          "execution_count": 33
        }
      ]
    },
    {
      "cell_type": "markdown",
      "metadata": {
        "id": "Ql-CRIDGQggd"
      },
      "source": [
        "There are 14579 lines"
      ]
    },
    {
      "cell_type": "markdown",
      "metadata": {
        "id": "JZodHUApHvOH"
      },
      "source": [
        "\n",
        "***\n",
        "\n",
        "### Question 4\n",
        "\n",
        "Now, to count how many words there is in the book, we need a function that splits a text line into its words. For example, to split the first line:"
      ]
    },
    {
      "cell_type": "code",
      "metadata": {
        "id": "uMC78L0PHvOH",
        "outputId": "522a0db7-2666-445a-9bc1-5fa210f87e1a"
      },
      "source": [
        "# New decoded line:\n",
        "my_first_line = \"This is my first line\"\n",
        "\n",
        "# My splitted line\n",
        "print(my_first_line.split())"
      ],
      "execution_count": null,
      "outputs": [
        {
          "name": "stdout",
          "output_type": "stream",
          "text": [
            "['This', 'is', 'my', 'first', 'line']\n"
          ]
        }
      ]
    },
    {
      "cell_type": "markdown",
      "metadata": {
        "id": "ILzaqGrHHvOI"
      },
      "source": [
        "Split the 385th line of the text, and show how many words it has (hint: python starts counting at zero): "
      ]
    },
    {
      "cell_type": "code",
      "metadata": {
        "colab": {
          "base_uri": "https://localhost:8080/"
        },
        "id": "tI4sJNJ7HvOI",
        "outputId": "97b68d6a-9607-4d8d-efc4-242528740520"
      },
      "source": [
        "# Your answer here\n",
        "word_list = decoded[384].split()\n",
        "len(word_list)"
      ],
      "execution_count": 43,
      "outputs": [
        {
          "output_type": "execute_result",
          "data": {
            "text/plain": [
              "0"
            ]
          },
          "metadata": {},
          "execution_count": 43
        }
      ]
    },
    {
      "cell_type": "markdown",
      "metadata": {
        "id": "T0cJQ3CvHvOI"
      },
      "source": [
        "\n",
        "***\n",
        "\n",
        "### Question 5\n",
        "\n",
        "Now, count how many words the book has."
      ]
    },
    {
      "cell_type": "code",
      "metadata": {
        "colab": {
          "base_uri": "https://localhost:8080/"
        },
        "id": "ys_kLrjIHvOJ",
        "outputId": "a04e580c-ba0f-411a-db4b-b55ff258acf0"
      },
      "source": [
        "# Your answer here\n",
        "count = 0\n",
        "for temp in decoded:\n",
        "  word_list = temp.split()\n",
        "  count += len(word_list)\n",
        "print(count)"
      ],
      "execution_count": 49,
      "outputs": [
        {
          "output_type": "stream",
          "name": "stdout",
          "text": [
            "124749\n"
          ]
        }
      ]
    },
    {
      "cell_type": "markdown",
      "metadata": {
        "id": "wnnIjsClV7C-"
      },
      "source": [
        "There are 124749 words."
      ]
    },
    {
      "cell_type": "markdown",
      "metadata": {
        "id": "c9NAYiBuHvOJ"
      },
      "source": [
        "**That's all, folks!**"
      ]
    }
  ]
}