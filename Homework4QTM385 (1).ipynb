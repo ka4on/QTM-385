{
  "nbformat": 4,
  "nbformat_minor": 0,
  "metadata": {
    "kernelspec": {
      "display_name": "Python 3",
      "language": "python",
      "name": "python3"
    },
    "language_info": {
      "codemirror_mode": {
        "name": "ipython",
        "version": 3
      },
      "file_extension": ".py",
      "mimetype": "text/x-python",
      "name": "python",
      "nbconvert_exporter": "python",
      "pygments_lexer": "ipython3",
      "version": "3.8.5"
    },
    "colab": {
      "name": "Homework4QTM385.ipynb",
      "provenance": [],
      "collapsed_sections": []
    }
  },
  "cells": [
    {
      "cell_type": "markdown",
      "metadata": {
        "id": "TSkpbULWSikO"
      },
      "source": [
        "# QTM 385\n",
        "\n",
        "***\n",
        "\n",
        "## Homework 4\n",
        "\n",
        "Student: [Kairan Zhong]"
      ]
    },
    {
      "cell_type": "markdown",
      "metadata": {
        "id": "NOOrAGGsSikQ"
      },
      "source": [
        "In this homework, we will create an object called Student, that is useful for a professor to store information about a student."
      ]
    },
    {
      "cell_type": "markdown",
      "metadata": {
        "id": "NTNBrhnoSikR"
      },
      "source": [
        "\n",
        "***\n",
        "\n",
        "### Question 1\n",
        "\n",
        "Create a class Student, that has:\n",
        "\n",
        "0. Id number (5-digits integer, starting with 1)\n",
        "1. First Name (str)\n",
        "2. Last Name (str)\n",
        "3. Grades (list of floats)\n",
        "4. Credits (list of integers)\n",
        "5. Major (str)\n",
        "\n",
        "Provide a constructor for your class and create one fictitious student."
      ]
    },
    {
      "cell_type": "code",
      "metadata": {
        "id": "hZVIhaioSikS"
      },
      "source": [
        "# Your answer here\n",
        "class Student:\n",
        "  def __init__(self, id, first, last, gr, cdt, mj):\n",
        "      self.id = id\n",
        "      self.fname = first\n",
        "      self.lname = last \n",
        "      self.grade = gr \n",
        "      self.credit = cdt \n",
        "      self.major = mj\n",
        "\n"
      ],
      "execution_count": null,
      "outputs": []
    },
    {
      "cell_type": "markdown",
      "metadata": {
        "id": "7jhiXfpaSikT"
      },
      "source": [
        "\n",
        "***\n",
        "\n",
        "### Question 2\n",
        "\n",
        "Create a method to nicely display the student when we type `print`. It should display, for example:\n",
        "\n",
        "```\n",
        "Student:\n",
        "    Id: 12345\n",
        "    Name: Mig, Umberto\n",
        "    Major: QSS\n",
        "```\n",
        "\n",
        "Create a method that, when a variable storing a student is typed in the console, displays:\n",
        "\n",
        "```\n",
        "Student(Mig, Umberto; 12345)\n",
        "```\n",
        "\n",
        "Provide some testing with a fictitious result of your choice."
      ]
    },
    {
      "cell_type": "code",
      "metadata": {
        "colab": {
          "base_uri": "https://localhost:8080/"
        },
        "id": "g4OAkOS-SikT",
        "outputId": "122faf79-3c3e-47c6-9dae-83129aa31e4f"
      },
      "source": [
        "# Your answer here\n",
        "class Student:\n",
        "  def __init__(self, id, first, last, gr, cdt, mj):\n",
        "      self.id = id\n",
        "      self.fname = first\n",
        "      self.lname = last \n",
        "      self.grade = gr \n",
        "      self.credit = cdt \n",
        "      self.major = mj\n",
        "\n",
        "  def __str__(self):\n",
        "          str_info = \"\"\"\n",
        "  Student:\n",
        "      Id: {id}\n",
        "      Name: {last}, {first}\n",
        "      Major:{maj}\n",
        "      \"\"\".format(id = self.id, last = self.lname, first = self.fname, maj = self.major)\n",
        "          return str_info\n",
        "\n",
        "  def __repr__(self):\n",
        "        rpinfo = \"\"\"\n",
        "Student({last}, {first}, {id})  \n",
        "\"\"\".format(last = self.lname, first = self.fname, id = self.id)\n",
        "        return rpinfo\n",
        "\n",
        "stu1 = Student(12345, 'Umberto', 'Mig', 0, 12, 'QSS')\n",
        "print(stu1)\n",
        "stu1"
      ],
      "execution_count": null,
      "outputs": [
        {
          "output_type": "stream",
          "name": "stdout",
          "text": [
            "\n",
            "  Student:\n",
            "      Id: 12345\n",
            "      Name: Mig, Umberto\n",
            "      Major:QSS\n",
            "      \n"
          ]
        },
        {
          "output_type": "execute_result",
          "data": {
            "text/plain": [
              "\n",
              "Student(Mig, Umberto, 12345)  "
            ]
          },
          "metadata": {},
          "execution_count": 10
        }
      ]
    },
    {
      "cell_type": "markdown",
      "metadata": {
        "id": "dN7Cb7LrSikT"
      },
      "source": [
        "\n",
        "***\n",
        "\n",
        "### Question 3\n",
        "\n",
        "Implement class methods for:\n",
        "\n",
        "1. Check if the id number is valid (remember: 5 digits, starting with number one)\n",
        "2. Check if the grades list has the same length as the credits list. The idea is that every grade corresponds to a course that gave the student a certain amount of credits.\n",
        "3. Append grade and credit: given a grade, and credits attached to the grade, append both to each respective place.\n",
        "\n",
        "Test your function with a toy student of your choice."
      ]
    },
    {
      "cell_type": "code",
      "metadata": {
        "id": "xuG3I22lSikU"
      },
      "source": [
        "# Your answer here\n",
        "class Student:\n",
        "  def __init__(self, id, first, last, gr, cdt, mj):\n",
        "      self.id = id\n",
        "      self.fname = first\n",
        "      self.lname = last \n",
        "      self.grade = gr \n",
        "      self.credit = cdt \n",
        "      self.major = mj\n",
        "\n",
        "  def __str__(self):\n",
        "          str_info = \"\"\"\n",
        "  Student:\n",
        "      Id: {id}\n",
        "      Name: {last}, {first}\n",
        "      Major:{maj}\n",
        "      \"\"\".format(id = self.id, last = self.lname, first = self.fname, maj = self.major)\n",
        "          return str_info\n",
        "\n",
        "  def __repr__(self):\n",
        "        rpinfo = \"\"\"\n",
        "Student({last}, {first}, {id})  \n",
        "\"\"\".format(last = self.lname, first = self.fname, id = self.id)\n",
        "        return rpinfo\n",
        "  \n",
        "  def id_valid(self):\n",
        "    if len(str(self.id))==5 and str(self.id)[0] == \"1\":\n",
        "      return \"the id is valid\"\n",
        "    else:\n",
        "      return \"id is not valid\"\n",
        "  \n",
        "  def check_list(self):\n",
        "    if len(self.grade) == len(self.credit):\n",
        "      return \"Correct!\"\n",
        "    else:\n",
        "      return \"Error! the lengths are not the same\"\n",
        "  \n",
        "  def upgrade_grd_cdt(self,ngrade, ncredit):\n",
        "        self.grade.append(ngrade)\n",
        "        self.credit.append(ncredit)\n",
        "        return self\n",
        "  "
      ],
      "execution_count": 1,
      "outputs": []
    },
    {
      "cell_type": "code",
      "metadata": {
        "colab": {
          "base_uri": "https://localhost:8080/"
        },
        "id": "mHjZqyA8z_9X",
        "outputId": "9759c047-a241-4c1b-e2b9-cb1cf2bca248"
      },
      "source": [
        "stu1 = Student(12345, 'Umberto', 'Mig', ['90','100','100'], [3,4], 'QSS')\n",
        "print(stu1.check_list())\n",
        "print(stu1.id_valid())\n",
        "stu1.upgrade_grd_cdt('100', '4')\n",
        "print(stu1.grade)\n",
        "print(stu1.credit)"
      ],
      "execution_count": 5,
      "outputs": [
        {
          "output_type": "stream",
          "name": "stdout",
          "text": [
            "Error! the lengths are not the same\n",
            "the id is valid\n",
            "['90', '100', '100', '100']\n",
            "[3, 4, '4']\n"
          ]
        }
      ]
    },
    {
      "cell_type": "markdown",
      "metadata": {
        "id": "FV9pX7x7SikV"
      },
      "source": [
        "\n",
        "***\n",
        "\n",
        "### Question 4\n",
        "\n",
        "Create a module in the class Student that computes the unweighted average of the student's grades."
      ]
    },
    {
      "cell_type": "code",
      "metadata": {
        "id": "NYJhjgO1SikV"
      },
      "source": [
        "# Your answer here\n",
        "class Student:\n",
        "  def __init__(self, id, first, last, gr, cdt, mj):\n",
        "      self.id = id\n",
        "      self.fname = first\n",
        "      self.lname = last \n",
        "      self.grade = gr \n",
        "      self.credit = cdt \n",
        "      self.major = mj\n",
        "\n",
        "  def __str__(self):\n",
        "          str_info = \"\"\"\n",
        "  Student:\n",
        "      Id: {id}\n",
        "      Name: {last}, {first}\n",
        "      Major:{maj}\n",
        "      \"\"\".format(id = self.id, last = self.lname, first = self.fname, maj = self.major)\n",
        "          return str_info\n",
        "\n",
        "  def __repr__(self):\n",
        "        rpinfo = \"\"\"\n",
        "Student({last}, {first}, {id})  \n",
        "\"\"\".format(last = self.lname, first = self.fname, id = self.id)\n",
        "        return rpinfo\n",
        "  \n",
        "  def id_valid(self):\n",
        "    if len(str(self.id))==5 and str(self.id)[0] == \"1\":\n",
        "      return \"the id is valid\"\n",
        "    else:\n",
        "      return \"id is not valid\"\n",
        "  \n",
        "  def check_list(self):\n",
        "    if len(self.grade) == len(self.credit):\n",
        "      return \"Correct!\"\n",
        "    else:\n",
        "      return \"Error! the lengths are not the same\"\n",
        "  \n",
        "  def avg_grades(self):\n",
        "    sum = 0\n",
        "    for i in self.grade:\n",
        "      sum += i\n",
        "    avg = sum / len(self.grade)\n",
        "    return avg"
      ],
      "execution_count": 7,
      "outputs": []
    },
    {
      "cell_type": "code",
      "metadata": {
        "colab": {
          "base_uri": "https://localhost:8080/"
        },
        "id": "YxvFdHsSF5Py",
        "outputId": "b1e91c94-d03d-4e6c-bd33-94b5cd317fb1"
      },
      "source": [
        "stu1 = Student(12345, 'Umberto', 'Mig', [100, 90, 95], [3,4,3], 'QSS')\n",
        "stu1.avg_grades()"
      ],
      "execution_count": 8,
      "outputs": [
        {
          "output_type": "execute_result",
          "data": {
            "text/plain": [
              "95.0"
            ]
          },
          "metadata": {},
          "execution_count": 8
        }
      ]
    },
    {
      "cell_type": "markdown",
      "metadata": {
        "id": "vKq0PKzjSikW"
      },
      "source": [
        "\n",
        "***\n",
        "\n",
        "### Question 5\n",
        "\n",
        "Create a module in the class Student that computes the weighted average of the student's grades, weighted by the credits."
      ]
    },
    {
      "cell_type": "code",
      "metadata": {
        "id": "fpA1wQPVSikW"
      },
      "source": [
        "# Your answer here\n",
        "# Your answer here\n",
        "class Student:\n",
        "  def __init__(self, id, first, last, gr, cdt, mj):\n",
        "      self.id = id\n",
        "      self.fname = first\n",
        "      self.lname = last \n",
        "      self.grade = gr \n",
        "      self.credit = cdt \n",
        "      self.major = mj\n",
        "\n",
        "  def __str__(self):\n",
        "          str_info = \"\"\"\n",
        "  Student:\n",
        "      Id: {id}\n",
        "      Name: {last}, {first}\n",
        "      Major:{maj}\n",
        "      \"\"\".format(id = self.id, last = self.lname, first = self.fname, maj = self.major)\n",
        "          return str_info\n",
        "\n",
        "  def __repr__(self):\n",
        "        rpinfo = \"\"\"\n",
        "Student({last}, {first}, {id})  \n",
        "\"\"\".format(last = self.lname, first = self.fname, id = self.id)\n",
        "        return rpinfo\n",
        "  \n",
        "  def id_valid(self):\n",
        "    if len(str(self.id))==5 and str(self.id)[0] == \"1\":\n",
        "      return \"the id is valid\"\n",
        "    else:\n",
        "      return \"id is not valid\"\n",
        "  \n",
        "  def check_list(self):\n",
        "    if len(self.grade) == len(self.credit):\n",
        "      return \"Correct!\"\n",
        "    else:\n",
        "      return \"Error! the lengths are not the same\"\n",
        "  \n",
        "  def avg_grades(self):\n",
        "    sum = 0\n",
        "    for i in self.grade:\n",
        "      sum += i\n",
        "    avg = sum / len(self.grade)\n",
        "    return avg\n",
        "\n",
        "  def wt_avg(self):\n",
        "    sum = 0 \n",
        "    credit = 0\n",
        "    for i in range(len(self.grade)):\n",
        "      sum += self.grade[i] * self.credit[i]\n",
        "    for j in self.credit:\n",
        "      credit += j\n",
        "    res = sum / credit\n",
        "    return res"
      ],
      "execution_count": 10,
      "outputs": []
    },
    {
      "cell_type": "code",
      "metadata": {
        "colab": {
          "base_uri": "https://localhost:8080/"
        },
        "id": "qpdTosE-4JXL",
        "outputId": "83ed6bd2-c07d-4ad4-e0e9-f7f0946ebed3"
      },
      "source": [
        "stu1 = Student(12345, 'Umberto', 'Mig', [100, 90, 95], [3,4,3], 'QSS')\n",
        "stu1.wt_avg()"
      ],
      "execution_count": 11,
      "outputs": [
        {
          "output_type": "execute_result",
          "data": {
            "text/plain": [
              "94.5"
            ]
          },
          "metadata": {},
          "execution_count": 11
        }
      ]
    },
    {
      "cell_type": "markdown",
      "metadata": {
        "id": "2gYNS9HnSikW"
      },
      "source": [
        "**That's all, folks!**"
      ]
    }
  ]
}