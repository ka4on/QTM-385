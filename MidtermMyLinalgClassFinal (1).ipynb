{
  "nbformat": 4,
  "nbformat_minor": 5,
  "metadata": {
    "kernelspec": {
      "display_name": "Python 3",
      "language": "python",
      "name": "python3"
    },
    "language_info": {
      "codemirror_mode": {
        "name": "ipython",
        "version": 3
      },
      "file_extension": ".py",
      "mimetype": "text/x-python",
      "name": "python",
      "nbconvert_exporter": "python",
      "pygments_lexer": "ipython3",
      "version": "3.8.8"
    },
    "colab": {
      "name": "MidtermMyLinalgClassFinal.ipynb",
      "provenance": [],
      "collapsed_sections": []
    }
  },
  "cells": [
    {
      "cell_type": "markdown",
      "metadata": {
        "id": "07e6385b"
      },
      "source": [
        "# QTM 385\n",
        "\n",
        "***\n",
        "\n",
        "## Midterm\n",
        "\n",
        "Student: [Kairan Zhong]"
      ],
      "id": "07e6385b"
    },
    {
      "cell_type": "markdown",
      "metadata": {
        "id": "99ae1dd8"
      },
      "source": [
        "***\n",
        "\n",
        "## Computational Linear Algebra in Python: Regression Calculator\n",
        "\n",
        "In this midterm, you will create a class to work with matrices. The objective is to run a regression.\n",
        "\n",
        "The class name should be `Matrix.` To make it easier for you to code and for me to grade, I suggest the following step-by-step:\n",
        "\n",
        "### 1. **constructor** (1 pt):\n",
        "\n",
        "In the constructor, the user should pass a list of numbers and a number of rows. Example:\n",
        "\n",
        "```\n",
        "m = Matrix([1,2,3,1,2,4], 2)\n",
        "```\n",
        "\n",
        "It should then store the following inside the memory:\n",
        "\n",
        "```\n",
        "print(m.mat)\n",
        "[[1,2,3],[1,2,4]]\n",
        "\n",
        "print(m.dim)\n",
        "[2, 3]\n",
        "```\n",
        "\n",
        "Representing the 2 x 3 matrix:\n",
        "\n",
        "|1, 2, 3|<br>\n",
        "|4, 5, 6|\n",
        "\n",
        "### 2. **\\_\\_str\\_\\_**, **\\_\\_repr\\_\\_**, and **is_square** (1 pt):\n",
        "\n",
        "Implement the **\\_\\_repr\\_\\_** for displaying the following:\n",
        "\n",
        "```\n",
        "m\n",
        "Matrix dimension [2, 3]\n",
        "```\n",
        "\n",
        "You should also implement a **\\_\\_str\\_\\_** representation for your matrix. For example, for the previous matrix:\n",
        "\n",
        "```\n",
        "print(m)\n",
        "[1, 2, 3]\n",
        "[4, 5, 6]\n",
        "```\n",
        "\n",
        "Finally, implement an **is_square** method that returns `True` when the matrix is square. Example:\n",
        "\n",
        "```\n",
        "m1 = Matrix([1,2,3,1,2,4], 2)\n",
        "m2 = Matrix([-2,-1,2,2,1,4,-3,3,-1], 3)\n",
        "\n",
        "print(m1.is_square())\n",
        "False\n",
        "\n",
        "print(m2.is_square())\n",
        "True\n",
        "```\n",
        "\n",
        "### 3. **\\_\\_add\\_\\_** and **\\_\\_sub\\_\\_** (1 pt):\n",
        "\n",
        "You will implement two methods: the sum of matrices (**\\_\\_add\\_\\_**) and the subtraction (**\\_\\_sub\\_\\_**). Using these methods ensures that the operations `m1 + m2` and `m1 - m2` are well-defined.\n",
        "\n",
        "Remember that sum and subtraction are only defined if the matrices have the same size. I advise you to do the following:\n",
        "\n",
        "```\n",
        "...some code before...\n",
        "\n",
        "    if ---matrix-do-not-conform-test---:\n",
        "        raise ValueError('Error. The matrices do not conform.')\n",
        "    else:\n",
        "        ...code here...\n",
        "\n",
        "...some code after...\n",
        "```\n",
        "\n",
        "This raises an error and tells the user about it.\n",
        "\n",
        "For the theory on matrix summation, see: https://en.wikipedia.org/wiki/Matrix_addition\n",
        "\n",
        "### 4. Implement a method for scalar multiplication (**\\_\\_mul\\_\\_**) (1 pt)\n",
        "\n",
        "In this part, you will implement the method to do scalar multiplications. For the theory regarding scalar multiplication, see: https://en.wikipedia.org/wiki/Scalar_multiplication\n",
        "\n",
        "The multiplication should proceed as follows:\n",
        "\n",
        "```\n",
        "m = Matrix([1,2,3,1,2,4], 2)\n",
        "\n",
        "print(m)\n",
        "[1, 2, 3]\n",
        "[1, 2, 4]\n",
        "\n",
        "print(m * 2)\n",
        "[2, 4, 6]\n",
        "[2, 4, 8]\n",
        "```\n",
        "\n",
        "Note that `2 * m` in matrix algebra is well-defined, but your method should throw an error.\n",
        "\n",
        "### 5. Implement a method to extract rows (**exrow**) and columns (**excol**) of a matrix (1 pt)\n",
        "\n",
        "These two methods are auxiliary to matrix multiplication. They are going to make it easy to do the matrix multiplication.\n",
        "\n",
        "For the row extraction, the input is the matrix and a row. It should return a list with the row. One example is:\n",
        "\n",
        "```\n",
        "m = Matrix([1,2,3,1,2,4], 2)\n",
        "\n",
        "print(m)\n",
        "[1, 2, 3]\n",
        "[1, 2, 4]\n",
        "\n",
        "print(m.exrow(0))\n",
        "[1, 2, 3]\n",
        "\n",
        "print(m.exrow(1))\n",
        "[1, 2, 4]\n",
        "```\n",
        "\n",
        "And if you choose a row that does not exist, it should throw an error (e.g., 'Error. Invalid row.').\n",
        "\n",
        "For the column extraction, the input is the matrix and a column. It should return a list with the column. One example is:\n",
        "\n",
        "```\n",
        "m = Matrix([1,2,3,1,2,4], 2)\n",
        "\n",
        "print(m)\n",
        "[1, 2, 3]\n",
        "[1, 2, 4]\n",
        "\n",
        "print(m.excol(0))\n",
        "[1, 1]\n",
        "\n",
        "print(m.excol(2))\n",
        "[3, 4]\n",
        "```\n",
        "\n",
        "Again, if you choose a column that does not exist, it should throw an error (e.g., 'Error. Invalid column.').\n",
        "\n",
        "### 6. Implement the matrix multiplication method (**\\_\\_pow\\_\\_**) (1 pt)\n",
        "\n",
        "For learning how matrix multiplication works, check: https://en.wikipedia.org/wiki/Matrix_multiplication\n",
        "\n",
        "In this method, you will implement the following operation:\n",
        "\n",
        "```\n",
        "m1 = Matrix([1,2,3,4,5,6,7,8,9], 3)\n",
        "m2 = Matrix([1,2,3,1,2,4], 3)\n",
        "\n",
        "print(m1)\n",
        "[1, 2, 3]\n",
        "[4, 5, 6]\n",
        "[7, 8, 9]\n",
        "\n",
        "print(m2)\n",
        "[1, 2]\n",
        "[3, 1]\n",
        "[2, 4]\n",
        "\n",
        "print(m1 ** m2)\n",
        "[13, 16]\n",
        "[31, 37]\n",
        "[49, 58]\n",
        "```\n",
        "\n",
        "Note that if you try `m2 ** m1`, it should throw an error (e.g. 'Error. Matrices do not conform for multiplication.').\n",
        "\n",
        "**Hint:** You can use the **excol** and **exrow** methods to extract the rows and columns. Then, check the definition of a dot product: https://en.wikipedia.org/wiki/Dot_product. This should be exactly what you should do with the row and column that you extracted.\n",
        "\n",
        "\n",
        "### 7. Implement the submatrix method for computing minors (**subm**) (1 pt)\n",
        "\n",
        "This method is auxiliary. You will need it to compute the determinant.\n",
        "\n",
        "If you are not sure what a minor is, check this: https://en.wikipedia.org/wiki/Minor_(linear_algebra)\n",
        "\n",
        "To compute the minor, you have to extract a submatrix. For example, if the matrix is:\n",
        "\n",
        "```\n",
        "m = Matrix([1,2,3,4,5,6,7,8,9], 3)\n",
        "\n",
        "print(m)\n",
        "[1, 2, 3]\n",
        "[4, 5, 6]\n",
        "[7, 8, 9]\n",
        "```\n",
        "\n",
        "The minor $M_{2,2}$ is the submatrix:\n",
        "\n",
        "```\n",
        "print(m.subm(1,1))\n",
        "[1, 3]\n",
        "[7, 9]\n",
        "```\n",
        "\n",
        "I.e., you should delete the second row and column:\n",
        "\n",
        "```\n",
        "[1, -, 3]\n",
        "[-, -, -]\n",
        "[7, -, 9]\n",
        "```\n",
        "\n",
        "And return the remaining numbers as a matrix.\n",
        "\n",
        "\n",
        "### 8. Implement the determinant method (**det**) (1 pt)\n",
        "\n",
        "First, if the user tries to compute the determinant in a non-square matrix, the code should throw an error (e.g. 'Error. Matrix is not square.'). Else, it should start the computations.\n",
        "\n",
        "If you don't know what a recursive function is, please read the following entry: https://pythonnumericalmethods.berkeley.edu/notebooks/chapter06.01-Recursive-Functions.html\n",
        "\n",
        "If you don't remember much about how to compute the determinant, check the cofactor expansion method here: https://en.wikipedia.org/wiki/Minor_(linear_algebra)\n",
        "\n",
        "We are going to compute the determinant by using a method called cofactor expansion. It consists of computing the determinant recursively, using the relevant cofactors.\n",
        "\n",
        "The way I solved was:\n",
        "\n",
        "```\n",
        "...some code before...\n",
        "if --matrix_is_2x2--:\n",
        "    return --we-know-the-determinant-here--\n",
        "else:\n",
        "    for --iteration-in-expansion--:\n",
        "        --computations-and-recursion--\n",
        "...some code after...\n",
        "```\n",
        "\n",
        "One code that could give you guidance is in here: https://en.wikipedia.org/wiki/Laplace_expansion\n",
        "\n",
        "To use as examples:\n",
        "\n",
        "```\n",
        "m = Matrix([-2,-1,2,2,1,4,-3,3,-1], 3)\n",
        "\n",
        "print(m)\n",
        "[-2, -1, 2]\n",
        "[2, 1, 4]\n",
        "[-3, 3, -1]\n",
        "\n",
        "m.det()\n",
        "54\n",
        "```\n",
        "\n",
        "And:\n",
        "\n",
        "```\n",
        "m = Matrix([1,2,3,4,5,6,7,8,9], 3)\n",
        "\n",
        "print(m)\n",
        "[1, 2, 3]\n",
        "[4, 5, 6]\n",
        "[7, 8, 9]\n",
        "\n",
        "m.det()\n",
        "0\n",
        "```\n",
        "\n",
        "### 9. Implement the cofactor matrix calculator (**cofm**) and the transpose calculator (**t**) (1 pt)\n",
        "\n",
        "To compute the cofactors, you should use the determinants and the submatrices as above. Example of cofactor computations:\n",
        "\n",
        "```\n",
        "m = Matrix([1,2,3,4,5,6,7,8,9], 3)\n",
        "\n",
        "print(m)\n",
        "[1, 2, 3]\n",
        "[4, 5, 6]\n",
        "[7, 8, 9]\n",
        "\n",
        "print(m.cofm())\n",
        "[-3, 6, -3]\n",
        "[6, -12, 6]\n",
        "[-3, 6, -3]\n",
        "```\n",
        "\n",
        "Or, for a non-singular matrix:\n",
        "\n",
        "```\n",
        "m = Matrix([1,2,3,4,5,6,7,8,9], 3)\n",
        "\n",
        "print(m)\n",
        "[-2, -1, 2]\n",
        "[2, 1, 4]\n",
        "[-3, 3, -1]\n",
        "\n",
        "print(m.cofm())\n",
        "[-13, -10, 9]\n",
        "[5, 8, 9]\n",
        "[-6, 12, 0]\n",
        "```\n",
        "\n",
        "Next, you need to implement a method to compute the transpose. If you are not sure what a transpose matrix is, please read: https://en.wikipedia.org/wiki/Transpose\n",
        "\n",
        "For example:\n",
        "\n",
        "```\n",
        "m = Matrix([1,2,3,4,5,6,7,8,9], 3)\n",
        "\n",
        "print(m)\n",
        "[-2, -1, 2]\n",
        "[2, 1, 4]\n",
        "[-3, 3, -1]\n",
        "\n",
        "print(m.cofm())\n",
        "[-13, -10, 9]\n",
        "[5, 8, 9]\n",
        "[-6, 12, 0]\n",
        "\n",
        "print(m.cofm().t())\n",
        "[-13, 5, -6]\n",
        "[-10, 8, 12]\n",
        "[9, 9, 0]\n",
        "```\n",
        "\n",
        "### 10. Compute the inverse matrix calculator (**inv**) (1 pt):\n",
        "\n",
        "If you did all the steps before, the inverse matrix is going to be straightforward:\n",
        "\n",
        "$$ A^{-1} = \\dfrac{1}{det(A)}C^t $$\n",
        "\n",
        "Where $C$ is the cofactor matrix. For example:\n",
        "\n",
        "```\n",
        "m = Matrix([1,2,3,4,5,6,7,8,9], 3)\n",
        "\n",
        "print(m)\n",
        "[-2, -1, 2]\n",
        "[2, 1, 4]\n",
        "[-3, 3, -1]\n",
        "\n",
        "print(m.inv())\n",
        "[-0.24074074074074073, 0.09259259259259259, -0.1111111111111111]\n",
        "[-0.18518518518518517, 0.14814814814814814, 0.2222222222222222]\n",
        "[0.16666666666666666, 0.16666666666666666, 0.0]\n",
        "```\n",
        "\n",
        "### 11. Compute the regression coefficients for the following matrix (1 pt):\n",
        "\n",
        "The formula for the regression is:\n",
        "\n",
        "$$ \\beta = (X^tX)^{-1}X^ty $$\n",
        "\n",
        "Where $X^t$ is the transpose of $X$. If we have the following data matrix **X**:\n",
        "\n",
        "```\n",
        "X = Matrix([1, -4, 0, 1, -3, 0, 1, -2, 0, 1, -1, 0, 1, 0, 0, 1, 1, 1, 1, 2, 1, 1, 3, 1, 1, 4, 1, 1, 5, 1], 10)\n",
        "```\n",
        "\n",
        "And the data **y**:\n",
        "\n",
        "```\n",
        "y = Matrix([-3.56518269407931, -2.96460021969053, -1.48659413971178, 0.700322671620325, 0.902347734124384, 1.29721825127923, 1.92302031156774, 3.88376671356276, 2.23958110933972, 6.5610333044646], 10)\n",
        "```\n",
        "\n",
        "This represents the formula:\n",
        "\n",
        "$$ y = X\\beta + \\varepsilon $$\n",
        "\n",
        "And for each individual coefficient:\n",
        "\n",
        "$$ y_i = \\beta_0 + \\beta_1 X1_i + \\beta_2 X2_i + \\varepsilon_i $$\n",
        "\n",
        "Computing the formula on these data, you should find a vector of coefficients close to:\n",
        "\n",
        "```\n",
        "[1.0616761356387148]\n",
        "[1.1722087325930488]\n",
        "[-1.3973783953750463]\n",
        "```\n",
        "\n",
        "Which represents:\n",
        "\n",
        "$$ y_i = 1.06 + 1.17 X1 - 1.40 X2 + \\varepsilon_i $$\n",
        "\n",
        "Congrats! You just created a Python package to compute regressions!\n",
        "\n",
        "\n",
        "## **Hints and rules:**\n",
        "\n",
        "1. You cannot use numpy or pandas. In fact, you cannot use any methods besides the default methods.\n",
        "\n",
        "2. In the example coding below, I put URLs that I checked to code the key. Use these URLs. Your job is to transform the ideas there into coding.\n",
        "\n",
        "3. Efficiency is essential, but getting it done is even more critical. Get the first version done, and then check for redundant computations.\n",
        "\n",
        "4. How did I solve it? I implemented one method at a time in the way I described in the questions. The order of the questions is a good predictor of what should be done first and next.\n",
        "\n",
        "5. This is a challenging midterm. It took me six times more than a regular problem set. To do well, you should start as soon as possible.\n",
        "\n",
        "6. The Laplace expansion is computationally expensive. If you want to try to do LU decomposition, please let me know.\n",
        "\n",
        "\n",
        "## **Good luck!**"
      ],
      "id": "99ae1dd8"
    },
    {
      "cell_type": "code",
      "metadata": {
        "id": "797e0257"
      },
      "source": [
        "# Your answers here\n",
        "\n",
        "class Matrix:\n",
        "    \"\"\"\n",
        "    Matrix Class\n",
        "    \n",
        "    Great to do Linear Algebra!\n",
        "    \"\"\"\n",
        "    # Constructor\n",
        "    def __init__(self, num, nrow):\n",
        "        \n",
        "        self.number = num\n",
        "        self.row = nrow\n",
        "        self.col = int(len(self.number)/self.row)\n",
        "\n",
        "        def cal_dim(self):\n",
        "          if len(self.number) % self.row == 0:\n",
        "            return [self.row, self.col]\n",
        "          else:\n",
        "            print(\"Error: this cannot be converted into a proper matrix\")\n",
        "\n",
        "        def cal_mat(self):\n",
        "          matrix = []\n",
        "          temp = self.number\n",
        "          while temp != []:\n",
        "            matrix.append(temp[:self.col])\n",
        "            temp = temp[self.col:]\n",
        "          return matrix\n",
        "\n",
        "        self.dim = cal_dim(self)\n",
        "        self.mat = cal_mat(self)\n",
        "          \n",
        "    # Print represetation\n",
        "    def __str__(self):\n",
        "        \n",
        "        str_info = \"\"\n",
        "        for i in range(self.row):\n",
        "          str_info += str(self.mat[i]) + '\\n'\n",
        "        return str_info\n",
        "\n",
        "    # Representation\n",
        "    def __repr__(self):\n",
        "        \n",
        "        rpinfo = \"\"\"\n",
        "Matrix dimension {dim}\n",
        "        \"\"\".format(dim = self.dim)\n",
        "        return rpinfo\n",
        "\n",
        "    # Test to see if square matrix\n",
        "    def is_square(self):\n",
        "        \n",
        "        if self.dim[0] == self.dim[1]:\n",
        "          return True\n",
        "        else:\n",
        "          return False\n",
        "\n",
        "        \n",
        "    # Addition (see https://en.wikipedia.org/wiki/Matrix_addition)\n",
        "    def __add__(self, other):\n",
        "        \n",
        "        mat_sum = []\n",
        "        if len(self.number) != len(other.number) or self.row != other.row:\n",
        "          raise ValueError('Error. The matrices do not conform.')\n",
        "        else:\n",
        "          for i in range(len(self.number)):\n",
        "            mat_sum.append(self.number[i] + other.number[i])\n",
        "          return Matrix(mat_sum, self.row)\n",
        "\n",
        "    # Subtraction\n",
        "    def __sub__(self, other):\n",
        "       \n",
        "        mat_sub = []\n",
        "        if len(self.number) != len(other.number) or self.row != other.row:\n",
        "          raise ValueError('Error. The matrices do not conform.')\n",
        "        else:\n",
        "          for i in range(len(self.number)):\n",
        "            mat_sub.append(self.number[i] - other.number[i])\n",
        "          return Matrix(mat_sub, self.row)\n",
        "        \n",
        "    # Scalar multiplication (https://en.wikipedia.org/wiki/Scalar_multiplication)\n",
        "    def __mul__(self, num):\n",
        "        \n",
        "        mat_mul = []\n",
        "        for i in range(len(self.number)):\n",
        "          mat_mul.append(self.number[i] * num)\n",
        "        return Matrix(mat_mul, self.row)\n",
        "\n",
        "    # Extract row\n",
        "    def exrow(self, i):\n",
        "        \n",
        "        if i < self.row:\n",
        "          return self.mat[i]\n",
        "        else: \n",
        "          raise ValueError('Error. Invalid row.')\n",
        "          \n",
        "    # Extract column\n",
        "    def excol(self, i):\n",
        "       \n",
        "        temp = []\n",
        "        col = []\n",
        "        for k in range(len(self.mat[0])):\n",
        "          for j in range(len(self.mat)):\n",
        "            temp.append(self.mat[j][k])\n",
        "          col.append(temp)\n",
        "          temp = []\n",
        "        return col[i]\n",
        "\n",
        "    # Matrix multiplication (see https://en.wikipedia.org/wiki/Matrix_multiplication)\n",
        "    def __pow__(self, other):\n",
        "        \n",
        "        if self.col != other.row:\n",
        "          raise ValueError('Error. The matrices do not conform.')\n",
        "        else:\n",
        "          res = []\n",
        "          temp = 0\n",
        "          for i in range(self.row):\n",
        "            for j in range(other.col):\n",
        "              for k in range(self.col):\n",
        "                temp += self.exrow(i)[k] * other.excol(j)[k]\n",
        "              res.append(temp)\n",
        "              temp = 0\n",
        "          return Matrix(res, self.row)\n",
        "\n",
        "\n",
        "    # Extract submatrix for minor (see https://en.wikipedia.org/wiki/Minor_(linear_algebra))\n",
        "    def subm(self, row, col):\n",
        "        \"\"\"\n",
        "        subm:\n",
        "            Extracts a submatrix for minor and cofactor computations\n",
        "            \n",
        "            Receives:\n",
        "                Matrix\n",
        "                row (int)\n",
        "                col (int)\n",
        "                \n",
        "            Returns:\n",
        "                Matrix\n",
        "        \"\"\"\n",
        "        res = []\n",
        "        for i in range(len(self.mat)):\n",
        "          for j in range(len(self.mat[0])):\n",
        "            if i!=row and j!=col:\n",
        "              res.append(self.mat[i][j])\n",
        "        return Matrix(res, self.row-1)\n",
        "        \n",
        "\n",
        "    \n",
        "    # Determinant (see https://en.wikipedia.org/wiki/Determinant)\n",
        "    def det(self):\n",
        "      \n",
        "        if self.row == 2:\n",
        "          return self.mat[0][0] * self.mat[1][1] - self.mat[0][1] * self.mat[1][0]\n",
        "        res = 0\n",
        "        for i in range(self.col):\n",
        "          temp = (-1) ** i * self.mat[0][i] * (self.subm(0,i)).det()\n",
        "          res += temp\n",
        "        return res\n",
        "          \n",
        "    \n",
        "    # Transpose\n",
        "    def t(self):\n",
        "\n",
        "        res = []\n",
        "        for i in range(self.col):\n",
        "          res += self.excol(i)\n",
        "        return Matrix(res, self.col)\n",
        "    \n",
        "    # Cofactor matrix (see https://en.wikipedia.org/wiki/Minor_(linear_algebra))\n",
        "\n",
        "    def cofm(self):\n",
        "        \n",
        "        res = []\n",
        "        for i in range(self.row):\n",
        "          for j in range(self.col):\n",
        "            res.append((-1)**(i+j+2)*self.subm(i,j).det())\n",
        "        return Matrix(res, self.row)\n",
        "    \n",
        "    # Inverse matrix (see the inverse definition after buiding the cofactor matrix: \n",
        "    #                 https://en.wikipedia.org/wiki/Minor_(linear_algebra))\n",
        "    def inv(self):\n",
        "        \n",
        "        det = 1 / self.det()\n",
        "        mat = self.cofm().t()\n",
        "        res = mat * det\n",
        "        temp = []\n",
        "        for i in res.mat:\n",
        "          temp += i \n",
        "        return Matrix(temp, self.row)\n",
        "    \n",
        "    def coef(self, other):\n",
        "      return (self.t() ** self).inv() ** self.t() ** other"
      ],
      "id": "797e0257",
      "execution_count": 1,
      "outputs": []
    },
    {
      "cell_type": "markdown",
      "metadata": {
        "id": "G_nuils2_VuM"
      },
      "source": [
        "# Test"
      ],
      "id": "G_nuils2_VuM"
    },
    {
      "cell_type": "code",
      "metadata": {
        "colab": {
          "base_uri": "https://localhost:8080/"
        },
        "id": "BkJ2G--o_Xh3",
        "outputId": "38e3922e-805e-4f60-edf0-501c58975607"
      },
      "source": [
        "m = Matrix([1,2,3,1,2,4], 2)\n",
        "m"
      ],
      "id": "BkJ2G--o_Xh3",
      "execution_count": 4,
      "outputs": [
        {
          "output_type": "execute_result",
          "data": {
            "text/plain": [
              "\n",
              "Matrix dimension [2, 3]\n",
              "        "
            ]
          },
          "metadata": {},
          "execution_count": 4
        }
      ]
    },
    {
      "cell_type": "code",
      "metadata": {
        "colab": {
          "base_uri": "https://localhost:8080/"
        },
        "id": "4FVYBsQNstOo",
        "outputId": "a00e63aa-0f9e-4d0a-dd28-bec6202d832f"
      },
      "source": [
        "print(m)"
      ],
      "id": "4FVYBsQNstOo",
      "execution_count": null,
      "outputs": [
        {
          "output_type": "stream",
          "name": "stdout",
          "text": [
            "[1, 2, 3]\n",
            "[1, 2, 4]\n",
            "\n"
          ]
        }
      ]
    },
    {
      "cell_type": "code",
      "metadata": {
        "id": "OWQuBtlLzxqB",
        "colab": {
          "base_uri": "https://localhost:8080/"
        },
        "outputId": "7b1fcb60-7461-430c-d2b6-884a368c1ada"
      },
      "source": [
        "m1 = Matrix([1,2,3,1,2,4], 2)\n",
        "m2 = Matrix([-2,-1,2,2,1,4,-3,3,-1], 3)\n",
        "m3 = Matrix([1,1,1,1,1,1], 2)\n",
        "print(m1)\n",
        "print(m2)"
      ],
      "id": "OWQuBtlLzxqB",
      "execution_count": 7,
      "outputs": [
        {
          "output_type": "stream",
          "name": "stdout",
          "text": [
            "[1, 2, 3]\n",
            "[1, 2, 4]\n",
            "\n",
            "[-2, -1, 2]\n",
            "[2, 1, 4]\n",
            "[-3, 3, -1]\n",
            "\n"
          ]
        }
      ]
    },
    {
      "cell_type": "code",
      "metadata": {
        "colab": {
          "base_uri": "https://localhost:8080/"
        },
        "id": "i8Y3wtcu_88P",
        "outputId": "8a102623-f571-48ae-cf4f-489342c5296f"
      },
      "source": [
        "print(m1.is_square())\n",
        "print(m2.is_square())"
      ],
      "id": "i8Y3wtcu_88P",
      "execution_count": 8,
      "outputs": [
        {
          "output_type": "stream",
          "name": "stdout",
          "text": [
            "False\n",
            "True\n"
          ]
        }
      ]
    },
    {
      "cell_type": "code",
      "metadata": {
        "colab": {
          "base_uri": "https://localhost:8080/"
        },
        "id": "kAQ2WS0d__C1",
        "outputId": "79735cfc-4218-427e-9be4-71a92a4c9954"
      },
      "source": [
        "print(m1 + m3)\n",
        "print(m1 - m3)"
      ],
      "id": "kAQ2WS0d__C1",
      "execution_count": 9,
      "outputs": [
        {
          "output_type": "stream",
          "name": "stdout",
          "text": [
            "[2, 3, 4]\n",
            "[2, 3, 5]\n",
            "\n",
            "[0, 1, 2]\n",
            "[0, 1, 3]\n",
            "\n"
          ]
        }
      ]
    },
    {
      "cell_type": "code",
      "metadata": {
        "colab": {
          "base_uri": "https://localhost:8080/"
        },
        "id": "iGcQ9e3ZACMU",
        "outputId": "51348508-69ca-45e7-cf15-563d76ea3b9d"
      },
      "source": [
        "print(m1 * 2)"
      ],
      "id": "iGcQ9e3ZACMU",
      "execution_count": 10,
      "outputs": [
        {
          "output_type": "stream",
          "name": "stdout",
          "text": [
            "[2, 4, 6]\n",
            "[2, 4, 8]\n",
            "\n"
          ]
        }
      ]
    },
    {
      "cell_type": "code",
      "metadata": {
        "colab": {
          "base_uri": "https://localhost:8080/"
        },
        "id": "xtkRyEJtAEFJ",
        "outputId": "1c192cc5-af71-45d2-eabe-ab1240c777a1"
      },
      "source": [
        "print(m.exrow(0))\n",
        "print(m.excol(0))"
      ],
      "id": "xtkRyEJtAEFJ",
      "execution_count": 11,
      "outputs": [
        {
          "output_type": "stream",
          "name": "stdout",
          "text": [
            "[1, 2, 3]\n",
            "[1, 1]\n"
          ]
        }
      ]
    },
    {
      "cell_type": "code",
      "metadata": {
        "colab": {
          "base_uri": "https://localhost:8080/"
        },
        "id": "VNrdHkWnHN-s",
        "outputId": "b4017cde-0f96-4e20-f0ce-c0bb19a3f8ef"
      },
      "source": [
        "m1 = Matrix([1,2,3], 1)\n",
        "m2 = Matrix([1,2,3], 3)\n",
        "print(m1 ** m2)"
      ],
      "id": "VNrdHkWnHN-s",
      "execution_count": 13,
      "outputs": [
        {
          "output_type": "stream",
          "name": "stdout",
          "text": [
            "[14]\n",
            "\n"
          ]
        }
      ]
    },
    {
      "cell_type": "code",
      "metadata": {
        "colab": {
          "base_uri": "https://localhost:8080/"
        },
        "id": "8Hc9ktJPfwzc",
        "outputId": "f224b21b-5e29-4168-9a8e-216f2f38547c"
      },
      "source": [
        "m = Matrix([-2,-1,2,2,1,4,-3,3,-1], 3)\n",
        "\n",
        "print(m)\n",
        "[-2, -1, 2]\n",
        "[2, 1, 4]\n",
        "[-3, 3, -1]\n",
        "\n",
        "m.det()"
      ],
      "id": "8Hc9ktJPfwzc",
      "execution_count": 14,
      "outputs": [
        {
          "output_type": "stream",
          "name": "stdout",
          "text": [
            "[-2, -1, 2]\n",
            "[2, 1, 4]\n",
            "[-3, 3, -1]\n",
            "\n"
          ]
        },
        {
          "output_type": "execute_result",
          "data": {
            "text/plain": [
              "54"
            ]
          },
          "metadata": {},
          "execution_count": 14
        }
      ]
    },
    {
      "cell_type": "code",
      "metadata": {
        "colab": {
          "base_uri": "https://localhost:8080/"
        },
        "id": "YmZy7JRA2nxC",
        "outputId": "391d572a-40b3-4f5f-b2ba-4392dde5c50c"
      },
      "source": [
        "m = Matrix([-2,-1,2,2,1,4,-3,3,-1], 3)\n",
        "print(m.cofm())\n",
        "print(m.cofm().t())"
      ],
      "id": "YmZy7JRA2nxC",
      "execution_count": 15,
      "outputs": [
        {
          "output_type": "stream",
          "name": "stdout",
          "text": [
            "[-13, -10, 9]\n",
            "[5, 8, 9]\n",
            "[-6, 12, 0]\n",
            "\n",
            "[-13, 5, -6]\n",
            "[-10, 8, 12]\n",
            "[9, 9, 0]\n",
            "\n"
          ]
        }
      ]
    },
    {
      "cell_type": "code",
      "metadata": {
        "colab": {
          "base_uri": "https://localhost:8080/"
        },
        "id": "glDMjOCHi8Uk",
        "outputId": "c482afbf-36be-4248-f7c9-e594befefa82"
      },
      "source": [
        "m = Matrix([-2,-1,2,2,1,4,-3,3,-1], 3)\n",
        "\n",
        "print(m)\n",
        "[-2, -1, 2]\n",
        "[2, 1, 4]\n",
        "[-3, 3, -1]\n",
        "\n",
        "print(m.inv())"
      ],
      "id": "glDMjOCHi8Uk",
      "execution_count": 16,
      "outputs": [
        {
          "output_type": "stream",
          "name": "stdout",
          "text": [
            "[-2, -1, 2]\n",
            "[2, 1, 4]\n",
            "[-3, 3, -1]\n",
            "\n",
            "[-0.24074074074074073, 0.09259259259259259, -0.1111111111111111]\n",
            "[-0.18518518518518517, 0.14814814814814814, 0.2222222222222222]\n",
            "[0.16666666666666666, 0.16666666666666666, 0.0]\n",
            "\n"
          ]
        }
      ]
    },
    {
      "cell_type": "code",
      "metadata": {
        "colab": {
          "base_uri": "https://localhost:8080/"
        },
        "id": "BRi8c5_mAydn",
        "outputId": "62138052-37d2-412d-f3d5-d7776ac8048c"
      },
      "source": [
        "X = Matrix([1, -4, 0, 1, -3, 0, 1, -2, 0, 1, -1, 0, 1, 0, 0, 1, 1, 1, 1, 2, 1, 1, 3, 1, 1, 4, 1, 1, 5, 1], 10)\n",
        "y = Matrix([-3.56518269407931, -2.96460021969053, -1.48659413971178, 0.700322671620325, 0.902347734124384, 1.29721825127923, 1.92302031156774, 3.88376671356276, 2.23958110933972, 6.5610333044646], 10)\n",
        "print(X.coef(y))"
      ],
      "id": "BRi8c5_mAydn",
      "execution_count": 17,
      "outputs": [
        {
          "output_type": "stream",
          "name": "stdout",
          "text": [
            "[1.0616761356387148]\n",
            "[1.1722087325930488]\n",
            "[-1.3973783953750463]\n",
            "\n"
          ]
        }
      ]
    }
  ]
}